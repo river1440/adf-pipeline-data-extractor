{
 "cells": [
  {
   "cell_type": "markdown",
   "id": "839f46f1-1cf2-46e0-a753-dcbff608eda0",
   "metadata": {},
   "source": [
    "# 1. Authenticate to MS"
   ]
  },
  {
   "cell_type": "code",
   "execution_count": 36,
   "id": "0e5d863e-1dd5-439b-87a8-526c160c35d3",
   "metadata": {},
   "outputs": [],
   "source": [
    "from azure.identity import DefaultAzureCredential\n",
    "from azure.mgmt.datafactory import DataFactoryManagementClient\n",
    "import os\n",
    "from dotenv import load_dotenv\n",
    "import json"
   ]
  },
  {
   "cell_type": "code",
   "execution_count": 2,
   "id": "f56ca3aa-7617-4355-a25a-b90d629ff482",
   "metadata": {},
   "outputs": [
    {
     "data": {
      "text/plain": [
       "True"
      ]
     },
     "execution_count": 2,
     "metadata": {},
     "output_type": "execute_result"
    }
   ],
   "source": [
    "# Load the .env file\n",
    "load_dotenv()"
   ]
  },
  {
   "cell_type": "code",
   "execution_count": 3,
   "id": "f2db67d3-3c01-4d56-a17c-be913142b3fe",
   "metadata": {},
   "outputs": [],
   "source": [
    "# Create client\n",
    "subscription_id = os.getenv(\"AZURE_SUBSCRIPTION_ID\")\n",
    "credential = DefaultAzureCredential()\n",
    "\n",
    "client = DataFactoryManagementClient(credential, subscription_id)"
   ]
  },
  {
   "cell_type": "markdown",
   "id": "b1271174-d9b8-4bc3-8bff-11a01b5af38c",
   "metadata": {},
   "source": [
    "# 2. Get data from DataFactory "
   ]
  },
  {
   "cell_type": "code",
   "execution_count": 43,
   "id": "48631fe9-e709-45f1-87b3-5ab122d382a8",
   "metadata": {},
   "outputs": [],
   "source": [
    "resource_group = os.getenv(\"RESOURCE_GROUP\")\n",
    "data_factory_name = os.getenv(\"DF_NAME\")"
   ]
  },
  {
   "cell_type": "code",
   "execution_count": 44,
   "id": "ff151861-cf49-41b4-ac0b-2dcf85835ef6",
   "metadata": {},
   "outputs": [
    {
     "name": "stdout",
     "output_type": "stream",
     "text": [
      "✅ Export complete: pipeline.json and activities.json\n"
     ]
    }
   ],
   "source": [
    "# --- Collect Pipelines ---\n",
    "pipeline_list = []\n",
    "activities_list = []\n",
    "\n",
    "pipelines = client.pipelines.list_by_factory(resource_group, data_factory_name)\n",
    "\n",
    "for pipeline in pipelines:\n",
    "    # Pipeline Metadata\n",
    "    pipeline_entry = {\n",
    "        \"name\": pipeline.name,\n",
    "        \"id\": pipeline.id,\n",
    "        \"type\": pipeline.type,\n",
    "        \"description\": pipeline.description,\n",
    "        \"url\": build_pipeline_url(\n",
    "            sub_id=subscription_id,\n",
    "            resource_group=resource_group,\n",
    "            factory_name=data_factory_name,\n",
    "            pipeline_name=pipeline.name\n",
    "        )\n",
    "    }\n",
    "    pipeline_list.append(pipeline_entry)\n",
    "\n",
    "    # Get pipeline definition to extract activities\n",
    "    if pipeline.activities:\n",
    "        for act in pipeline.activities:\n",
    "            activity_entry = {\n",
    "                \"pipeline_name\": pipeline.name,\n",
    "                \"activity_name\": act.name,\n",
    "                \"type\": act.type,\n",
    "                \"description\": act.description,\n",
    "            }\n",
    "            activities_list.append(activity_entry)\n",
    "\n",
    "# --- Export to JSON files ---\n",
    "with open(\"pipeline.json\", \"w\", encoding=\"utf-8\") as f:\n",
    "    json.dump(pipeline_list, f, indent=2)\n",
    "\n",
    "with open(\"activities.json\", \"w\", encoding=\"utf-8\") as f:\n",
    "    json.dump(activities_list, f, indent=2)\n",
    "\n",
    "print(\"✅ Export complete: pipeline.json and activities.json\")"
   ]
  },
  {
   "cell_type": "code",
   "execution_count": null,
   "id": "812e1713-2e2d-491f-b815-ad08fa931de1",
   "metadata": {},
   "outputs": [],
   "source": [
    "# --- Collect Pipelines ---\n",
    "pipeline_run_list = []\n",
    "activities_list = []\n",
    "\n",
    "pipelines = client.pipelines.list_by_factory(resource_group, data_factory_name)\n",
    "\n",
    "for pipeline in pipelines:\n",
    "    # Pipeline Metadata\n",
    "    pipeline_entry = {\n",
    "        \"name\": pipeline.name,\n",
    "        \"id\": pipeline.id,\n",
    "        \"type\": pipeline.type,\n",
    "        \"description\": pipeline.description,\n",
    "        \"url\": build_pipeline_url(\n",
    "            sub_id=subscription_id,\n",
    "            resource_group=resource_group,\n",
    "            factory_name=data_factory_name,\n",
    "            pipeline_name=pipeline.name\n",
    "        )\n",
    "    }\n",
    "    pipeline_list.append(pipeline_entry)\n",
    "\n",
    "    # Get pipeline definition to extract activities\n",
    "    if pipeline.activities:\n",
    "        for act in pipeline.activities:\n",
    "            activity_entry = {\n",
    "                \"pipeline_name\": pipeline.name,\n",
    "                \"activity_name\": act.name,\n",
    "                \"type\": act.type,\n",
    "                \"description\": act.description,\n",
    "            }\n",
    "            activities_list.append(activity_entry)\n",
    "\n",
    "# --- Export to JSON files ---\n",
    "with open(\"pipeline.json\", \"w\", encoding=\"utf-8\") as f:\n",
    "    json.dump(pipeline_list, f, indent=2)\n",
    "\n",
    "with open(\"activities.json\", \"w\", encoding=\"utf-8\") as f:\n",
    "    json.dump(activities_list, f, indent=2)\n",
    "\n",
    "print(\"✅ Export complete: pipeline.json and activities.json\")"
   ]
  }
 ],
 "metadata": {
  "kernelspec": {
   "display_name": "project",
   "language": "python",
   "name": "project"
  },
  "language_info": {
   "codemirror_mode": {
    "name": "ipython",
    "version": 3
   },
   "file_extension": ".py",
   "mimetype": "text/x-python",
   "name": "python",
   "nbconvert_exporter": "python",
   "pygments_lexer": "ipython3",
   "version": "3.13.2"
  }
 },
 "nbformat": 4,
 "nbformat_minor": 5
}
