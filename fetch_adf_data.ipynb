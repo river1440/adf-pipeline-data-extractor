{
 "cells": [
  {
   "cell_type": "markdown",
   "id": "839f46f1-1cf2-46e0-a753-dcbff608eda0",
   "metadata": {},
   "source": [
    "# 1. Authenticate to MS"
   ]
  },
  {
   "cell_type": "code",
   "execution_count": null,
   "id": "0e5d863e-1dd5-439b-87a8-526c160c35d3",
   "metadata": {},
   "outputs": [],
   "source": [
    "from azure.identity import DefaultAzureCredential\n",
    "from azure.mgmt.datafactory import DataFactoryManagementClient\n",
    "import os\n",
    "from dotenv import load_dotenv"
   ]
  },
  {
   "cell_type": "code",
   "execution_count": null,
   "id": "f56ca3aa-7617-4355-a25a-b90d629ff482",
   "metadata": {},
   "outputs": [],
   "source": [
    "# Load the .env file\n",
    "load_dotenv()"
   ]
  },
  {
   "cell_type": "code",
   "execution_count": null,
   "id": "f2db67d3-3c01-4d56-a17c-be913142b3fe",
   "metadata": {},
   "outputs": [],
   "source": [
    "# Create client\n",
    "subscription_id = os.getenv(\"AZURE_SUBSCRIPTION_ID\")\n",
    "credential = DefaultAzureCredential()\n",
    "\n",
    "client = DataFactoryManagementClient(credential, subscription_id)"
   ]
  },
  {
   "cell_type": "code",
   "execution_count": null,
   "id": "48631fe9-e709-45f1-87b3-5ab122d382a8",
   "metadata": {},
   "outputs": [],
   "source": [
    "# Example: list pipelines in a data factory\n",
    "resource_group = \"your-resource-group\"\n",
    "data_factory_name = \"your-data-factory\"\n",
    "\n",
    "pipelines = client.pipelines.list_by_factory(resource_group, data_factory_name)\n",
    "for pipe in pipelines:\n",
    "    print(pipe.name)"
   ]
  },
  {
   "cell_type": "code",
   "execution_count": null,
   "id": "ff151861-cf49-41b4-ac0b-2dcf85835ef6",
   "metadata": {},
   "outputs": [],
   "source": []
  },
  {
   "cell_type": "code",
   "execution_count": null,
   "id": "c42228fa-4d0a-4e9e-a58e-53446fb084de",
   "metadata": {},
   "outputs": [],
   "source": []
  },
  {
   "cell_type": "code",
   "execution_count": null,
   "id": "42f649f2-b278-458d-8064-443d938f4f0d",
   "metadata": {},
   "outputs": [],
   "source": []
  },
  {
   "cell_type": "code",
   "execution_count": null,
   "id": "b014e495-8b2b-481c-81e3-aef7900ce0a8",
   "metadata": {},
   "outputs": [],
   "source": []
  },
  {
   "cell_type": "code",
   "execution_count": null,
   "id": "812e1713-2e2d-491f-b815-ad08fa931de1",
   "metadata": {},
   "outputs": [],
   "source": []
  }
 ],
 "metadata": {
  "kernelspec": {
   "display_name": "project",
   "language": "python",
   "name": "project"
  },
  "language_info": {
   "codemirror_mode": {
    "name": "ipython",
    "version": 3
   },
   "file_extension": ".py",
   "mimetype": "text/x-python",
   "name": "python",
   "nbconvert_exporter": "python",
   "pygments_lexer": "ipython3",
   "version": "3.13.2"
  }
 },
 "nbformat": 4,
 "nbformat_minor": 5
}
